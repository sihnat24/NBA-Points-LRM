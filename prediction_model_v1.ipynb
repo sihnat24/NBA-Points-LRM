{
 "cells": [
  {
   "cell_type": "markdown",
   "metadata": {},
   "source": [
    "# TO DO\n",
    " - Court feature got deleted somewhere along the way, not in final datasets"
   ]
  },
  {
   "cell_type": "code",
   "execution_count": 6,
   "metadata": {},
   "outputs": [],
   "source": [
    "import pandas as pd\n",
    "from sklearn.preprocessing import StandardScaler\n",
    "from sklearn.model_selection import train_test_split\n",
    "import os\n",
    "import numpy as np"
   ]
  },
  {
   "cell_type": "code",
   "execution_count": null,
   "metadata": {},
   "outputs": [],
   "source": [
    "#combine all files into a single dataframe\n",
    "def load_data(path):\n",
    "    all_files = [os.path.join(path, f) for f in os.listdir(path)]\n",
    "    data = []\n",
    "    for file in all_files:\n",
    "        df = pd.read_csv(file)\n",
    "        data.append(df)\n",
    "    return pd.concat(data, ignore_index = False)\n",
    "\n",
    "all_data = r\"C:\\Github_Repos\\MATH2015-Linear-Regression-Model\\Linear_Regression_Data\\Combined_testing_training\"\n",
    "training_data = r\"C:\\Github_Repos\\MATH2015-Linear-Regression-Model\\Linear_Regression_Data\\Model_Training\"\n",
    "testing_data = r\"C:\\Github_Repos\\MATH2015-Linear-Regression-Model\\Linear_Regression_Data\\Model_Testing\"\n",
    "\n",
    "data = load_data(all_data)\n",
    "#get target variables and features\n",
    "y = data['final_PTS']\n",
    "X = data.drop('final_PTS',axis=1)\n",
    "#initialize a scaler\n",
    "scaler = StandardScaler()\n",
    "\n",
    "#fit the scaler to the features and transform\n",
    "X_scaled = scaler.fit_transform(X)\n",
    "\n",
    "#convert the scaled features back into the dataframe\n",
    "X_scaled = pd.DataFrame(X_scaled, columns=X.columns)\n",
    "#split the data into training and testing sets\n",
    "#split the data: 80% training, 20% testing\n",
    "X_train, X_test, y_train, y_test = train_test_split(\n",
    "    X_scaled, y, test_size=0.2, random_state=42\n",
    ")\n"
   ]
  },
  {
   "cell_type": "code",
   "execution_count": null,
   "metadata": {},
   "outputs": [],
   "source": [
    "#add a bias term (intercept) to the feature sets\n",
    "X_train_b = np.c_[np.ones((X_train.shape[0], 1)), X_train]\n",
    "X_test_b = np.c_[np.ones((X_test.shape[0], 1)), X_test]\n",
    "\n",
    "X_scaled.to_csv(\"scaled_features.csv\")\n",
    "y.to_csv(\"output.csv\")\n",
    "\n",
    "#define the gradient descent function\n",
    "def gradient_descent(X, y, learning_rate=0.01, n_iterations=1000):\n",
    "    m = len(y)\n",
    "    n_features = X.shape[1]\n",
    "    theta = np.random.randn(n_features, 1)  #random initialization\n",
    "    y = y.values.reshape(-1, 1)  #convert y to a column vector\n",
    "\n",
    "    for iteration in range(n_iterations):\n",
    "        predictions = X.dot(theta)\n",
    "        errors = predictions - y\n",
    "        gradients = (2/m) * X.T.dot(errors)\n",
    "        theta -= learning_rate * gradients\n",
    "\n",
    "    return theta\n",
    "\n",
    "#train the model using gradient descent\n",
    "theta = gradient_descent(X_train_b, y_train, learning_rate=0.01, n_iterations=1000)\n"
   ]
  },
  {
   "cell_type": "code",
   "execution_count": null,
   "metadata": {},
   "outputs": [
    {
     "name": "stdout",
     "output_type": "stream",
     "text": [
      "Test Mean Squared Error: 43.90952337719158\n",
      "Test R^2 Score: 0.29494916980193453\n"
     ]
    }
   ],
   "source": [
    "#predict on the testing set\n",
    "y_pred = X_test_b.dot(theta).flatten()\n",
    "\n",
    "#evaluate the model using Mean Squared Error and R-squared metrics\n",
    "from sklearn.metrics import mean_squared_error, r2_score\n",
    "\n",
    "mse_test = mean_squared_error(y_test, y_pred)\n",
    "r2_test = r2_score(y_test, y_pred)\n",
    "\n",
    "print(f\"Test Mean Squared Error: {mse_test}\")\n",
    "print(f\"Test R^2 Score: {r2_test}\")"
   ]
  },
  {
   "cell_type": "code",
   "execution_count": 11,
   "metadata": {},
   "outputs": [
    {
     "name": "stdout",
     "output_type": "stream",
     "text": [
      "Training Mean Squared Error: 44.297, points are off by about 6.656\n",
      "Training R^2 Score: 0.294\n"
     ]
    }
   ],
   "source": [
    "#predict on the training set\n",
    "y_train_pred = X_train_b.dot(theta).flatten()\n",
    "\n",
    "#evaluate the model on the training data\n",
    "mse_train = mean_squared_error(y_train, y_train_pred)\n",
    "r2_train = r2_score(y_train, y_train_pred)\n",
    "\n",
    "print(f\"Training Mean Squared Error: {round(mse_train,3)}, points are off by about {round(np.sqrt(mse_train),3)}\")\n",
    "print(f\"Training R^2 Score: {round(r2_train,3)}\")\n"
   ]
  }
 ],
 "metadata": {
  "kernelspec": {
   "display_name": "base",
   "language": "python",
   "name": "python3"
  },
  "language_info": {
   "codemirror_mode": {
    "name": "ipython",
    "version": 3
   },
   "file_extension": ".py",
   "mimetype": "text/x-python",
   "name": "python",
   "nbconvert_exporter": "python",
   "pygments_lexer": "ipython3",
   "version": "3.11.10"
  }
 },
 "nbformat": 4,
 "nbformat_minor": 2
}
